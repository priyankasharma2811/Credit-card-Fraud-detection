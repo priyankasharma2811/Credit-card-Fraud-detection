{
 "cells": [
  {
   "cell_type": "code",
   "execution_count": 1,
   "id": "ef6da525",
   "metadata": {},
   "outputs": [],
   "source": [
    "## Import Libraries\n",
    "\n",
    "import pandas as pd\n",
    "import matplotlib.pyplot as plt\n",
    "import collections\n",
    "from sklearn.cluster import KMeans\n",
    "from sklearn.model_selection import train_test_split\n",
    "from sklearn.metrics import *\n",
    "import seaborn as sns"
   ]
  },
  {
   "cell_type": "code",
   "execution_count": 2,
   "id": "08a6cafc",
   "metadata": {},
   "outputs": [],
   "source": [
    "df=pd.read_csv(\"creditcard.csv\\\\creditcard.csv\")"
   ]
  },
  {
   "cell_type": "markdown",
   "id": "b04cbbd9",
   "metadata": {},
   "source": [
    "### Dataset Description\n",
    "\n",
    "The dataset contains transactions made by credit cards in September 2013 by European cardholders. This dataset presents transactions that occurred in two days, where we have 492 frauds out of 284,807 transactions. The dataset is highly unbalanced, the positive class (frauds) account for 0.172% of all transactions.\n",
    "\n",
    "It contains only numerical input variables which are the result of a PCA transformation. Unfortunately, due to confidentiality issues, we cannot provide the original features and more background information about the data. Features V1, V2, … V28 are the principal components obtained with PCA, the only features which have not been transformed with PCA are 'Time' and 'Amount'. Feature 'Time' contains the seconds elapsed between each transaction and the first transaction in the dataset. The feature 'Amount' is the transaction Amount, this feature can be used for example-dependant cost-sensitive learning. Feature 'Class' is the response variable and it takes value 1 in case of fraud and 0 otherwise."
   ]
  },
  {
   "cell_type": "code",
   "execution_count": 3,
   "id": "173f6a21",
   "metadata": {},
   "outputs": [
    {
     "data": {
      "text/plain": [
       "(284807, 31)"
      ]
     },
     "execution_count": 3,
     "metadata": {},
     "output_type": "execute_result"
    }
   ],
   "source": [
    "df.shape"
   ]
  },
  {
   "cell_type": "code",
   "execution_count": 4,
   "id": "c11235d2",
   "metadata": {},
   "outputs": [
    {
     "data": {
      "text/html": [
       "<div>\n",
       "<style scoped>\n",
       "    .dataframe tbody tr th:only-of-type {\n",
       "        vertical-align: middle;\n",
       "    }\n",
       "\n",
       "    .dataframe tbody tr th {\n",
       "        vertical-align: top;\n",
       "    }\n",
       "\n",
       "    .dataframe thead th {\n",
       "        text-align: right;\n",
       "    }\n",
       "</style>\n",
       "<table border=\"1\" class=\"dataframe\">\n",
       "  <thead>\n",
       "    <tr style=\"text-align: right;\">\n",
       "      <th></th>\n",
       "      <th>Time</th>\n",
       "      <th>V1</th>\n",
       "      <th>V2</th>\n",
       "      <th>V3</th>\n",
       "      <th>V4</th>\n",
       "      <th>V5</th>\n",
       "      <th>V6</th>\n",
       "      <th>V7</th>\n",
       "      <th>V8</th>\n",
       "      <th>V9</th>\n",
       "      <th>...</th>\n",
       "      <th>V21</th>\n",
       "      <th>V22</th>\n",
       "      <th>V23</th>\n",
       "      <th>V24</th>\n",
       "      <th>V25</th>\n",
       "      <th>V26</th>\n",
       "      <th>V27</th>\n",
       "      <th>V28</th>\n",
       "      <th>Amount</th>\n",
       "      <th>Class</th>\n",
       "    </tr>\n",
       "  </thead>\n",
       "  <tbody>\n",
       "    <tr>\n",
       "      <th>0</th>\n",
       "      <td>0.0</td>\n",
       "      <td>-1.359807</td>\n",
       "      <td>-0.072781</td>\n",
       "      <td>2.536347</td>\n",
       "      <td>1.378155</td>\n",
       "      <td>-0.338321</td>\n",
       "      <td>0.462388</td>\n",
       "      <td>0.239599</td>\n",
       "      <td>0.098698</td>\n",
       "      <td>0.363787</td>\n",
       "      <td>...</td>\n",
       "      <td>-0.018307</td>\n",
       "      <td>0.277838</td>\n",
       "      <td>-0.110474</td>\n",
       "      <td>0.066928</td>\n",
       "      <td>0.128539</td>\n",
       "      <td>-0.189115</td>\n",
       "      <td>0.133558</td>\n",
       "      <td>-0.021053</td>\n",
       "      <td>149.62</td>\n",
       "      <td>0</td>\n",
       "    </tr>\n",
       "    <tr>\n",
       "      <th>1</th>\n",
       "      <td>0.0</td>\n",
       "      <td>1.191857</td>\n",
       "      <td>0.266151</td>\n",
       "      <td>0.166480</td>\n",
       "      <td>0.448154</td>\n",
       "      <td>0.060018</td>\n",
       "      <td>-0.082361</td>\n",
       "      <td>-0.078803</td>\n",
       "      <td>0.085102</td>\n",
       "      <td>-0.255425</td>\n",
       "      <td>...</td>\n",
       "      <td>-0.225775</td>\n",
       "      <td>-0.638672</td>\n",
       "      <td>0.101288</td>\n",
       "      <td>-0.339846</td>\n",
       "      <td>0.167170</td>\n",
       "      <td>0.125895</td>\n",
       "      <td>-0.008983</td>\n",
       "      <td>0.014724</td>\n",
       "      <td>2.69</td>\n",
       "      <td>0</td>\n",
       "    </tr>\n",
       "    <tr>\n",
       "      <th>2</th>\n",
       "      <td>1.0</td>\n",
       "      <td>-1.358354</td>\n",
       "      <td>-1.340163</td>\n",
       "      <td>1.773209</td>\n",
       "      <td>0.379780</td>\n",
       "      <td>-0.503198</td>\n",
       "      <td>1.800499</td>\n",
       "      <td>0.791461</td>\n",
       "      <td>0.247676</td>\n",
       "      <td>-1.514654</td>\n",
       "      <td>...</td>\n",
       "      <td>0.247998</td>\n",
       "      <td>0.771679</td>\n",
       "      <td>0.909412</td>\n",
       "      <td>-0.689281</td>\n",
       "      <td>-0.327642</td>\n",
       "      <td>-0.139097</td>\n",
       "      <td>-0.055353</td>\n",
       "      <td>-0.059752</td>\n",
       "      <td>378.66</td>\n",
       "      <td>0</td>\n",
       "    </tr>\n",
       "    <tr>\n",
       "      <th>3</th>\n",
       "      <td>1.0</td>\n",
       "      <td>-0.966272</td>\n",
       "      <td>-0.185226</td>\n",
       "      <td>1.792993</td>\n",
       "      <td>-0.863291</td>\n",
       "      <td>-0.010309</td>\n",
       "      <td>1.247203</td>\n",
       "      <td>0.237609</td>\n",
       "      <td>0.377436</td>\n",
       "      <td>-1.387024</td>\n",
       "      <td>...</td>\n",
       "      <td>-0.108300</td>\n",
       "      <td>0.005274</td>\n",
       "      <td>-0.190321</td>\n",
       "      <td>-1.175575</td>\n",
       "      <td>0.647376</td>\n",
       "      <td>-0.221929</td>\n",
       "      <td>0.062723</td>\n",
       "      <td>0.061458</td>\n",
       "      <td>123.50</td>\n",
       "      <td>0</td>\n",
       "    </tr>\n",
       "    <tr>\n",
       "      <th>4</th>\n",
       "      <td>2.0</td>\n",
       "      <td>-1.158233</td>\n",
       "      <td>0.877737</td>\n",
       "      <td>1.548718</td>\n",
       "      <td>0.403034</td>\n",
       "      <td>-0.407193</td>\n",
       "      <td>0.095921</td>\n",
       "      <td>0.592941</td>\n",
       "      <td>-0.270533</td>\n",
       "      <td>0.817739</td>\n",
       "      <td>...</td>\n",
       "      <td>-0.009431</td>\n",
       "      <td>0.798278</td>\n",
       "      <td>-0.137458</td>\n",
       "      <td>0.141267</td>\n",
       "      <td>-0.206010</td>\n",
       "      <td>0.502292</td>\n",
       "      <td>0.219422</td>\n",
       "      <td>0.215153</td>\n",
       "      <td>69.99</td>\n",
       "      <td>0</td>\n",
       "    </tr>\n",
       "  </tbody>\n",
       "</table>\n",
       "<p>5 rows × 31 columns</p>\n",
       "</div>"
      ],
      "text/plain": [
       "   Time        V1        V2        V3        V4        V5        V6        V7  \\\n",
       "0   0.0 -1.359807 -0.072781  2.536347  1.378155 -0.338321  0.462388  0.239599   \n",
       "1   0.0  1.191857  0.266151  0.166480  0.448154  0.060018 -0.082361 -0.078803   \n",
       "2   1.0 -1.358354 -1.340163  1.773209  0.379780 -0.503198  1.800499  0.791461   \n",
       "3   1.0 -0.966272 -0.185226  1.792993 -0.863291 -0.010309  1.247203  0.237609   \n",
       "4   2.0 -1.158233  0.877737  1.548718  0.403034 -0.407193  0.095921  0.592941   \n",
       "\n",
       "         V8        V9  ...       V21       V22       V23       V24       V25  \\\n",
       "0  0.098698  0.363787  ... -0.018307  0.277838 -0.110474  0.066928  0.128539   \n",
       "1  0.085102 -0.255425  ... -0.225775 -0.638672  0.101288 -0.339846  0.167170   \n",
       "2  0.247676 -1.514654  ...  0.247998  0.771679  0.909412 -0.689281 -0.327642   \n",
       "3  0.377436 -1.387024  ... -0.108300  0.005274 -0.190321 -1.175575  0.647376   \n",
       "4 -0.270533  0.817739  ... -0.009431  0.798278 -0.137458  0.141267 -0.206010   \n",
       "\n",
       "        V26       V27       V28  Amount  Class  \n",
       "0 -0.189115  0.133558 -0.021053  149.62      0  \n",
       "1  0.125895 -0.008983  0.014724    2.69      0  \n",
       "2 -0.139097 -0.055353 -0.059752  378.66      0  \n",
       "3 -0.221929  0.062723  0.061458  123.50      0  \n",
       "4  0.502292  0.219422  0.215153   69.99      0  \n",
       "\n",
       "[5 rows x 31 columns]"
      ]
     },
     "execution_count": 4,
     "metadata": {},
     "output_type": "execute_result"
    }
   ],
   "source": [
    "df.head()"
   ]
  },
  {
   "cell_type": "code",
   "execution_count": 5,
   "id": "dfc943d6",
   "metadata": {},
   "outputs": [],
   "source": [
    "df.drop_duplicates(inplace=True)"
   ]
  },
  {
   "cell_type": "code",
   "execution_count": 6,
   "id": "72a98557",
   "metadata": {},
   "outputs": [
    {
     "data": {
      "text/plain": [
       "0    283253\n",
       "1       473\n",
       "Name: Class, dtype: int64"
      ]
     },
     "execution_count": 6,
     "metadata": {},
     "output_type": "execute_result"
    }
   ],
   "source": [
    "df['Class'].value_counts()"
   ]
  },
  {
   "cell_type": "code",
   "execution_count": 7,
   "id": "50cf56a4",
   "metadata": {},
   "outputs": [
    {
     "data": {
      "text/plain": [
       "<AxesSubplot: xlabel='Class', ylabel='count'>"
      ]
     },
     "execution_count": 7,
     "metadata": {},
     "output_type": "execute_result"
    },
    {
     "data": {
      "image/png": "[encoded data removed]",
      "text/plain": [
       "<Figure size 640x480 with 1 Axes>"
      ]
     },
     "metadata": {},
     "output_type": "display_data"
    }
   ],
   "source": [
    "sns.countplot(x='Class',hue='Class',data=df)"
   ]
  },
  {
   "cell_type": "markdown",
   "id": "17ac7c6d",
   "metadata": {},
   "source": [
    "The classes are very imbalanced near about 80% of the transactions in dataset are genuine and only 20% of them are fraud :- that is major challenge"
   ]
  },
  {
   "cell_type": "markdown",
   "id": "f2b8a293",
   "metadata": {},
   "source": [
    "### KMeans \n",
    "\n",
    "I implemented Kmeans clustering in order to classify the two classes in two different clusters the recall is very good but precision is not good "
   ]
  },
  {
   "cell_type": "code",
   "execution_count": 8,
   "id": "b3d7e6dd",
   "metadata": {},
   "outputs": [],
   "source": [
    "x=df.iloc[:,0:30]\n",
    "y=df['Class']"
   ]
  },
  {
   "cell_type": "code",
   "execution_count": 9,
   "id": "a7dedd94",
   "metadata": {},
   "outputs": [
    {
     "data": {
      "text/html": [
       "<div>\n",
       "<style scoped>\n",
       "    .dataframe tbody tr th:only-of-type {\n",
       "        vertical-align: middle;\n",
       "    }\n",
       "\n",
       "    .dataframe tbody tr th {\n",
       "        vertical-align: top;\n",
       "    }\n",
       "\n",
       "    .dataframe thead th {\n",
       "        text-align: right;\n",
       "    }\n",
       "</style>\n",
       "<table border=\"1\" class=\"dataframe\">\n",
       "  <thead>\n",
       "    <tr style=\"text-align: right;\">\n",
       "      <th></th>\n",
       "      <th>Time</th>\n",
       "      <th>V1</th>\n",
       "      <th>V2</th>\n",
       "      <th>V3</th>\n",
       "      <th>V4</th>\n",
       "      <th>V5</th>\n",
       "      <th>V6</th>\n",
       "      <th>V7</th>\n",
       "      <th>V8</th>\n",
       "      <th>V9</th>\n",
       "      <th>...</th>\n",
       "      <th>V20</th>\n",
       "      <th>V21</th>\n",
       "      <th>V22</th>\n",
       "      <th>V23</th>\n",
       "      <th>V24</th>\n",
       "      <th>V25</th>\n",
       "      <th>V26</th>\n",
       "      <th>V27</th>\n",
       "      <th>V28</th>\n",
       "      <th>Amount</th>\n",
       "    </tr>\n",
       "  </thead>\n",
       "  <tbody>\n",
       "    <tr>\n",
       "      <th>0</th>\n",
       "      <td>0.0</td>\n",
       "      <td>-1.359807</td>\n",
       "      <td>-0.072781</td>\n",
       "      <td>2.536347</td>\n",
       "      <td>1.378155</td>\n",
       "      <td>-0.338321</td>\n",
       "      <td>0.462388</td>\n",
       "      <td>0.239599</td>\n",
       "      <td>0.098698</td>\n",
       "      <td>0.363787</td>\n",
       "      <td>...</td>\n",
       "      <td>0.251412</td>\n",
       "      <td>-0.018307</td>\n",
       "      <td>0.277838</td>\n",
       "      <td>-0.110474</td>\n",
       "      <td>0.066928</td>\n",
       "      <td>0.128539</td>\n",
       "      <td>-0.189115</td>\n",
       "      <td>0.133558</td>\n",
       "      <td>-0.021053</td>\n",
       "      <td>149.62</td>\n",
       "    </tr>\n",
       "    <tr>\n",
       "      <th>1</th>\n",
       "      <td>0.0</td>\n",
       "      <td>1.191857</td>\n",
       "      <td>0.266151</td>\n",
       "      <td>0.166480</td>\n",
       "      <td>0.448154</td>\n",
       "      <td>0.060018</td>\n",
       "      <td>-0.082361</td>\n",
       "      <td>-0.078803</td>\n",
       "      <td>0.085102</td>\n",
       "      <td>-0.255425</td>\n",
       "      <td>...</td>\n",
       "      <td>-0.069083</td>\n",
       "      <td>-0.225775</td>\n",
       "      <td>-0.638672</td>\n",
       "      <td>0.101288</td>\n",
       "      <td>-0.339846</td>\n",
       "      <td>0.167170</td>\n",
       "      <td>0.125895</td>\n",
       "      <td>-0.008983</td>\n",
       "      <td>0.014724</td>\n",
       "      <td>2.69</td>\n",
       "    </tr>\n",
       "    <tr>\n",
       "      <th>2</th>\n",
       "      <td>1.0</td>\n",
       "      <td>-1.358354</td>\n",
       "      <td>-1.340163</td>\n",
       "      <td>1.773209</td>\n",
       "      <td>0.379780</td>\n",
       "      <td>-0.503198</td>\n",
       "      <td>1.800499</td>\n",
       "      <td>0.791461</td>\n",
       "      <td>0.247676</td>\n",
       "      <td>-1.514654</td>\n",
       "      <td>...</td>\n",
       "      <td>0.524980</td>\n",
       "      <td>0.247998</td>\n",
       "      <td>0.771679</td>\n",
       "      <td>0.909412</td>\n",
       "      <td>-0.689281</td>\n",
       "      <td>-0.327642</td>\n",
       "      <td>-0.139097</td>\n",
       "      <td>-0.055353</td>\n",
       "      <td>-0.059752</td>\n",
       "      <td>378.66</td>\n",
       "    </tr>\n",
       "    <tr>\n",
       "      <th>3</th>\n",
       "      <td>1.0</td>\n",
       "      <td>-0.966272</td>\n",
       "      <td>-0.185226</td>\n",
       "      <td>1.792993</td>\n",
       "      <td>-0.863291</td>\n",
       "      <td>-0.010309</td>\n",
       "      <td>1.247203</td>\n",
       "      <td>0.237609</td>\n",
       "      <td>0.377436</td>\n",
       "      <td>-1.387024</td>\n",
       "      <td>...</td>\n",
       "      <td>-0.208038</td>\n",
       "      <td>-0.108300</td>\n",
       "      <td>0.005274</td>\n",
       "      <td>-0.190321</td>\n",
       "      <td>-1.175575</td>\n",
       "      <td>0.647376</td>\n",
       "      <td>-0.221929</td>\n",
       "      <td>0.062723</td>\n",
       "      <td>0.061458</td>\n",
       "      <td>123.50</td>\n",
       "    </tr>\n",
       "    <tr>\n",
       "      <th>4</th>\n",
       "      <td>2.0</td>\n",
       "      <td>-1.158233</td>\n",
       "      <td>0.877737</td>\n",
       "      <td>1.548718</td>\n",
       "      <td>0.403034</td>\n",
       "      <td>-0.407193</td>\n",
       "      <td>0.095921</td>\n",
       "      <td>0.592941</td>\n",
       "      <td>-0.270533</td>\n",
       "      <td>0.817739</td>\n",
       "      <td>...</td>\n",
       "      <td>0.408542</td>\n",
       "      <td>-0.009431</td>\n",
       "      <td>0.798278</td>\n",
       "      <td>-0.137458</td>\n",
       "      <td>0.141267</td>\n",
       "      <td>-0.206010</td>\n",
       "      <td>0.502292</td>\n",
       "      <td>0.219422</td>\n",
       "      <td>0.215153</td>\n",
       "      <td>69.99</td>\n",
       "    </tr>\n",
       "  </tbody>\n",
       "</table>\n",
       "<p>5 rows × 30 columns</p>\n",
       "</div>"
      ],
      "text/plain": [
       "   Time        V1        V2        V3        V4        V5        V6        V7  \\\n",
       "0   0.0 -1.359807 -0.072781  2.536347  1.378155 -0.338321  0.462388  0.239599   \n",
       "1   0.0  1.191857  0.266151  0.166480  0.448154  0.060018 -0.082361 -0.078803   \n",
       "2   1.0 -1.358354 -1.340163  1.773209  0.379780 -0.503198  1.800499  0.791461   \n",
       "3   1.0 -0.966272 -0.185226  1.792993 -0.863291 -0.010309  1.247203  0.237609   \n",
       "4   2.0 -1.158233  0.877737  1.548718  0.403034 -0.407193  0.095921  0.592941   \n",
       "\n",
       "         V8        V9  ...       V20       V21       V22       V23       V24  \\\n",
       "0  0.098698  0.363787  ...  0.251412 -0.018307  0.277838 -0.110474  0.066928   \n",
       "1  0.085102 -0.255425  ... -0.069083 -0.225775 -0.638672  0.101288 -0.339846   \n",
       "2  0.247676 -1.514654  ...  0.524980  0.247998  0.771679  0.909412 -0.689281   \n",
       "3  0.377436 -1.387024  ... -0.208038 -0.108300  0.005274 -0.190321 -1.175575   \n",
       "4 -0.270533  0.817739  ...  0.408542 -0.009431  0.798278 -0.137458  0.141267   \n",
       "\n",
       "        V25       V26       V27       V28  Amount  \n",
       "0  0.128539 -0.189115  0.133558 -0.021053  149.62  \n",
       "1  0.167170  0.125895 -0.008983  0.014724    2.69  \n",
       "2 -0.327642 -0.139097 -0.055353 -0.059752  378.66  \n",
       "3  0.647376 -0.221929  0.062723  0.061458  123.50  \n",
       "4 -0.206010  0.502292  0.219422  0.215153   69.99  \n",
       "\n",
       "[5 rows x 30 columns]"
      ]
     },
     "execution_count": 9,
     "metadata": {},
     "output_type": "execute_result"
    }
   ],
   "source": [
    "x.head()"
   ]
  },
  {
   "cell_type": "code",
   "execution_count": 10,
   "id": "b60dc4bf",
   "metadata": {},
   "outputs": [],
   "source": [
    "x_train,x_test,y_train,y_test=train_test_split(x,y,test_size=0.3,random_state=0)"
   ]
  },
  {
   "cell_type": "code",
   "execution_count": 11,
   "id": "541326bc",
   "metadata": {
    "scrolled": true
   },
   "outputs": [
    {
     "data": {
      "text/html": [
       "<style>#sk-container-id-1 {color: black;background-color: white;}#sk-container-id-1 pre{padding: 0;}#sk-container-id-1 div.sk-toggleable {background-color: white;}#sk-container-id-1 label.sk-toggleable__label {cursor: pointer;display: block;width: 100%;margin-bottom: 0;padding: 0.3em;box-sizing: border-box;text-align: center;}#sk-container-id-1 label.sk-toggleable__label-arrow:before {content: \"▸\";float: left;margin-right: 0.25em;color: #696969;}#sk-container-id-1 label.sk-toggleable__label-arrow:hover:before {color: black;}#sk-container-id-1 div.sk-estimator:hover label.sk-toggleable__label-arrow:before {color: black;}#sk-container-id-1 div.sk-toggleable__content {max-height: 0;max-width: 0;overflow: hidden;text-align: left;background-color: #f0f8ff;}#sk-container-id-1 div.sk-toggleable__content pre {margin: 0.2em;color: black;border-radius: 0.25em;background-color: #f0f8ff;}#sk-container-id-1 input.sk-toggleable__control:checked~div.sk-toggleable__content {max-height: 200px;max-width: 100%;overflow: auto;}#sk-container-id-1 input.sk-toggleable__control:checked~label.sk-toggleable__label-arrow:before {content: \"▾\";}#sk-container-id-1 div.sk-estimator input.sk-toggleable__control:checked~label.sk-toggleable__label {background-color: #d4ebff;}#sk-container-id-1 div.sk-label input.sk-toggleable__control:checked~label.sk-toggleable__label {background-color: #d4ebff;}#sk-container-id-1 input.sk-hidden--visually {border: 0;clip: rect(1px 1px 1px 1px);clip: rect(1px, 1px, 1px, 1px);height: 1px;margin: -1px;overflow: hidden;padding: 0;position: absolute;width: 1px;}#sk-container-id-1 div.sk-estimator {font-family: monospace;background-color: #f0f8ff;border: 1px dotted black;border-radius: 0.25em;box-sizing: border-box;margin-bottom: 0.5em;}#sk-container-id-1 div.sk-estimator:hover {background-color: #d4ebff;}#sk-container-id-1 div.sk-parallel-item::after {content: \"\";width: 100%;border-bottom: 1px solid gray;flex-grow: 1;}#sk-container-id-1 div.sk-label:hover label.sk-toggleable__label {background-color: #d4ebff;}#sk-container-id-1 div.sk-serial::before {content: \"\";position: absolute;border-left: 1px solid gray;box-sizing: border-box;top: 0;bottom: 0;left: 50%;z-index: 0;}#sk-container-id-1 div.sk-serial {display: flex;flex-direction: column;align-items: center;background-color: white;padding-right: 0.2em;padding-left: 0.2em;position: relative;}#sk-container-id-1 div.sk-item {position: relative;z-index: 1;}#sk-container-id-1 div.sk-parallel {display: flex;align-items: stretch;justify-content: center;background-color: white;position: relative;}#sk-container-id-1 div.sk-item::before, #sk-container-id-1 div.sk-parallel-item::before {content: \"\";position: absolute;border-left: 1px solid gray;box-sizing: border-box;top: 0;bottom: 0;left: 50%;z-index: -1;}#sk-container-id-1 div.sk-parallel-item {display: flex;flex-direction: column;z-index: 1;position: relative;background-color: white;}#sk-container-id-1 div.sk-parallel-item:first-child::after {align-self: flex-end;width: 50%;}#sk-container-id-1 div.sk-parallel-item:last-child::after {align-self: flex-start;width: 50%;}#sk-container-id-1 div.sk-parallel-item:only-child::after {width: 0;}#sk-container-id-1 div.sk-dashed-wrapped {border: 1px dashed gray;margin: 0 0.4em 0.5em 0.4em;box-sizing: border-box;padding-bottom: 0.4em;background-color: white;}#sk-container-id-1 div.sk-label label {font-family: monospace;font-weight: bold;display: inline-block;line-height: 1.2em;}#sk-container-id-1 div.sk-label-container {text-align: center;}#sk-container-id-1 div.sk-container {/* jupyter's `normalize.less` sets `[hidden] { display: none; }` but bootstrap.min.css set `[hidden] { display: none !important; }` so we also need the `!important` here to be able to override the default hidden behavior on the sphinx rendered scikit-learn.org. See: https://github.com/scikit-learn/scikit-learn/issues/21755 */display: inline-block !important;position: relative;}#sk-container-id-1 div.sk-text-repr-fallback {display: none;}</style><div id=\"sk-container-id-1\" class=\"sk-top-container\"><div class=\"sk-text-repr-fallback\"><pre>KMeans(n_clusters=2, random_state=0)</pre><b>In a Jupyter environment, please rerun this cell to show the HTML representation or trust the notebook. <br />On GitHub, the HTML representation is unable to render, please try loading this page with nbviewer.org.</b></div><div class=\"sk-container\" hidden><div class=\"sk-item\"><div class=\"sk-estimator sk-toggleable\"><input class=\"sk-toggleable__control sk-hidden--visually\" id=\"sk-estimator-id-1\" type=\"checkbox\" checked><label for=\"sk-estimator-id-1\" class=\"sk-toggleable__label sk-toggleable__label-arrow\">KMeans</label><div class=\"sk-toggleable__content\"><pre>KMeans(n_clusters=2, random_state=0)</pre></div></div></div></div></div>"
      ],
      "text/plain": [
       "KMeans(n_clusters=2, random_state=0)"
      ]
     },
     "execution_count": 11,
     "metadata": {},
     "output_type": "execute_result"
    }
   ],
   "source": [
    "kmeans=KMeans(n_clusters=2,init='k-means++',random_state=0)\n",
    "kmeans.fit(x_train)"
   ]
  },
  {
   "cell_type": "code",
   "execution_count": 12,
   "id": "77eeffc1",
   "metadata": {},
   "outputs": [],
   "source": [
    "pred=kmeans.predict(x_test)\n"
   ]
  },
  {
   "cell_type": "code",
   "execution_count": 13,
   "id": "2d9e71c7",
   "metadata": {},
   "outputs": [
    {
     "name": "stdout",
     "output_type": "stream",
     "text": [
      "0.6744186046511628\n"
     ]
    }
   ],
   "source": [
    "from sklearn.metrics import recall_score\n",
    "print(recall_score(y_test,pred))"
   ]
  },
  {
   "cell_type": "code",
   "execution_count": 14,
   "id": "5b33b6d1",
   "metadata": {},
   "outputs": [],
   "source": [
    "km_recall=recall_score(y_test,pred)\n",
    "km_pre=precision_score(y_test,pred)\n",
    "km_acc=accuracy_score(y_test,pred)\n",
    "km_cm=confusion_matrix(y_test,pred)\n",
    "km_f1=f1_score(y_test,pred)"
   ]
  },
  {
   "cell_type": "code",
   "execution_count": 15,
   "id": "1eb810d0",
   "metadata": {},
   "outputs": [
    {
     "name": "stdout",
     "output_type": "stream",
     "text": [
      "Metrics report for Kmeans \n",
      "\n",
      "\n",
      "Recall 0.6744186046511628\n",
      "Precision 0.0019008083897749618\n",
      "F1_score 0.003790932264319484\n",
      "Accuracy 0.46280457717521556\n",
      "\n",
      "\n",
      "Confusion Matrix \n",
      " [[39306 45683]\n",
      " [   42    87]]\n"
     ]
    }
   ],
   "source": [
    "ndf = {'Recall':km_recall,'Precision' :km_pre, 'F1_score':km_f1,'Accuracy': km_acc}\n",
    "\n",
    "print(\"Metrics report for Kmeans \")\n",
    "\n",
    "\n",
    "\n",
    "print('\\n')\n",
    "\n",
    "for i in ndf:\n",
    "    \n",
    "    print(i,ndf[i])\n",
    "print('\\n')\n",
    "\n",
    "cm=confusion_matrix(y_test,pred)\n",
    "print('Confusion Matrix \\n',cm)\n"
   ]
  },
  {
   "cell_type": "code",
   "execution_count": 16,
   "id": "65e792c2",
   "metadata": {},
   "outputs": [],
   "source": [
    "# dropping time column\n",
    "df.drop(['Time'],axis=1,inplace=True)"
   ]
  },
  {
   "cell_type": "markdown",
   "id": "ce7b395b",
   "metadata": {},
   "source": [
    "### Correlation matrix"
   ]
  },
  {
   "cell_type": "code",
   "execution_count": 17,
   "id": "2e682031",
   "metadata": {
    "scrolled": true
   },
   "outputs": [
    {
     "data": {
      "text/plain": [
       "<AxesSubplot: >"
      ]
     },
     "execution_count": 17,
     "metadata": {},
     "output_type": "execute_result"
    },
    {
     "data": {
      "image/png": "[encoded data removed]",
      "text/plain": [
       "<Figure size 640x480 with 2 Axes>"
      ]
     },
     "metadata": {},
     "output_type": "display_data"
    }
   ],
   "source": [
    "sns.heatmap(df.corr())"
   ]
  },
  {
   "cell_type": "markdown",
   "id": "f12946b1",
   "metadata": {},
   "source": [
    "### Detecting outliers"
   ]
  },
  {
   "cell_type": "markdown",
   "id": "fc9f43ab",
   "metadata": {},
   "source": [
    "Turkey 's method to detect outliers is used when data is highly skewed \n",
    "The general rule is that anything not in the range of (Q1 - 1.5 IQR) and (Q3 + 1.5 IQR) is an outlier, and can be removed.\n",
    "\n",
    "Procedure:\n",
    "\n",
    "Find the first quartile, Q1.\n",
    "Find the third quartile, Q3.\n",
    "Calculate the IQR. IQR = Q3-Q1.\n",
    "Define the normal data range with lower limit as Q1–1.5 IQR and upper limit as Q3+1.5 IQR.\n",
    "\n",
    "For oulier detection methods look here: https://www.kaggle.com/code/marcinrutecki/outlier-detection-methods\n"
   ]
  },
  {
   "cell_type": "code",
   "execution_count": 18,
   "id": "99911527",
   "metadata": {},
   "outputs": [],
   "source": [
    "def IQRmethod(df,n,features):\n",
    "    outlierL=[]\n",
    "    for cols in features:\n",
    "        Q1=np.percentile(df[cols],25)\n",
    "        Q3=np.percentile(df[cols],75)\n",
    "        IQR=Q3-Q1\n",
    "        outlier_cols=df[(df[cols]<Q1-1.5*IQR) | (df[cols]>Q3-1.5*IQR)].index\n",
    "        outlierL.extend(outlier_cols)\n",
    "        outlierL=collections.Counter(outlierL)\n",
    "        mul_outliers=list(k for k,v in outlierL.items() if v>n)\n",
    "        outlier_step=1.5*IQR\n",
    "        out1 = df[df[cols]< Q1 - outlier_step]\n",
    "        out2 = df[df[cols]> Q3 + outlier_step]\n",
    "    \n",
    "        print('Total number of deleted outliers is:', out1.shape[0]+out2.shape[0])\n",
    "        return outlierL"
   ]
  },
  {
   "cell_type": "code",
   "execution_count": 19,
   "id": "8891dbc1",
   "metadata": {},
   "outputs": [
    {
     "name": "stdout",
     "output_type": "stream",
     "text": [
      "Total number of deleted outliers is: 6948\n"
     ]
    }
   ],
   "source": [
    "import numpy as np\n",
    "num_cols=(list(df.loc[:,'V1':'Amount']))\n",
    "outliers=IQRmethod(df,1,num_cols)\n",
    "df_out=df.drop(outliers,axis=0).reset_index(drop=True)\n",
    "\n"
   ]
  },
  {
   "cell_type": "code",
   "execution_count": 20,
   "id": "d156084a",
   "metadata": {},
   "outputs": [
    {
     "data": {
      "image/png": "[encoded data removed]",
      "text/plain": [
       "<Figure size 300x400 with 1 Axes>"
      ]
     },
     "metadata": {},
     "output_type": "display_data"
    }
   ],
   "source": [
    "plt.figure(figsize=(3,4))\n",
    "ax = sns.countplot(x='Class',data=df_out)\n",
    "for i in ax.containers:\n",
    "    ax.bar_label(i,)"
   ]
  },
  {
   "cell_type": "markdown",
   "id": "83c865b0",
   "metadata": {},
   "source": [
    "As we can see after removing the outliers our data became more imbalanced as fraud class has only 92 rows \n",
    "So, we will drop the idea to delete outliers"
   ]
  },
  {
   "cell_type": "markdown",
   "id": "4d1e143c",
   "metadata": {},
   "source": [
    "###  Stratified Sampling\n",
    "\n",
    "Stratified sampling is preferred when the data is highly imbalanced in order to split equal percentage of the classes in both train and test dataframe.\n",
    "\n",
    "These dataset divisions are usually generated randomly according to a target variable."
   ]
  },
  {
   "cell_type": "code",
   "execution_count": 21,
   "id": "8b35460d",
   "metadata": {},
   "outputs": [],
   "source": [
    "\n",
    "X=df.drop('Class',axis=1)\n",
    "Y=df['Class']\n",
    "\n"
   ]
  },
  {
   "cell_type": "code",
   "execution_count": 22,
   "id": "22377c85",
   "metadata": {},
   "outputs": [],
   "source": [
    "from sklearn.model_selection import train_test_split\n",
    "X_train,X_test,Y_train,Y_test=train_test_split(X,Y,stratify=Y,test_size=0.3,random_state=42)"
   ]
  },
  {
   "cell_type": "markdown",
   "id": "5bf6b72f",
   "metadata": {},
   "source": [
    "### Randomforest Classifier without under/oversampling"
   ]
  },
  {
   "cell_type": "code",
   "execution_count": 23,
   "id": "8714aa13",
   "metadata": {},
   "outputs": [],
   "source": [
    "from sklearn.ensemble import RandomForestClassifier\n",
    "from sklearn.model_selection import StratifiedKFold\n",
    "from sklearn.model_selection import cross_val_score\n",
    "kf=StratifiedKFold(n_splits=5,shuffle=False)"
   ]
  },
  {
   "cell_type": "code",
   "execution_count": 24,
   "id": "dbdb4d45",
   "metadata": {},
   "outputs": [],
   "source": [
    "rfmodel=RandomForestClassifier(n_estimators=100,max_depth=12,random_state=13)"
   ]
  },
  {
   "cell_type": "code",
   "execution_count": 25,
   "id": "fb5cc5e4",
   "metadata": {},
   "outputs": [],
   "source": [
    "rfmodel.fit(X_train,Y_train)\n",
    "y_pred=rfmodel.predict(X_test)"
   ]
  },
  {
   "cell_type": "code",
   "execution_count": 26,
   "id": "57230837",
   "metadata": {},
   "outputs": [],
   "source": [
    "rf_recall=recall_score(Y_test,y_pred)"
   ]
  },
  {
   "cell_type": "code",
   "execution_count": 27,
   "id": "b036908d",
   "metadata": {},
   "outputs": [],
   "source": [
    "rf_pre=precision_score(Y_test,y_pred)"
   ]
  },
  {
   "cell_type": "code",
   "execution_count": 28,
   "id": "7a45976d",
   "metadata": {},
   "outputs": [],
   "source": [
    "rf_cm=confusion_matrix(Y_test,y_pred)"
   ]
  },
  {
   "cell_type": "code",
   "execution_count": 29,
   "id": "d8b53530",
   "metadata": {},
   "outputs": [],
   "source": [
    "rf_acc=accuracy_score(Y_test,y_pred)\n",
    "rf_f1=f1_score(Y_test,y_pred)"
   ]
  },
  {
   "cell_type": "markdown",
   "id": "14a24eb0",
   "metadata": {},
   "source": [
    " The Matthews Correlation Coefficient (MCC) is a machine learning measure which is used to check the\n",
    "balance of the binary (two-class) classifiers. It takes into account all the true and false values of confusion matrix that is why it is generally\n",
    "regarded as a balanced measure which can be used even if there are different classes.\n",
    "\n",
    "MCC is high if the model is doing well on both the classes"
   ]
  },
  {
   "cell_type": "code",
   "execution_count": 30,
   "id": "fa009428",
   "metadata": {
    "scrolled": true
   },
   "outputs": [
    {
     "name": "stdout",
     "output_type": "stream",
     "text": [
      "Matthews_corrcoef 0.8602850523630742\n"
     ]
    }
   ],
   "source": [
    "rf_mc=matthews_corrcoef(Y_test,y_pred)\n",
    "\n",
    "print('Matthews_corrcoef',rf_mc)"
   ]
  },
  {
   "cell_type": "markdown",
   "id": "fb9144f2",
   "metadata": {},
   "source": [
    "#### Optimising for Recall\n",
    "\n",
    "Recall: The ability of model to find all the relevant cases in dataset . The number of true positive divided by true positive and false negatives.\n",
    "\n",
    "Cases like credit card fruad detection we want to avoid false negative cases as fraud transaction costs us alot so we want to avoid them. False negative case is when fraud positive transaction is considered as genuine which is more important  as compared to  false positive means if the genuine transaction as fraud.  "
   ]
  },
  {
   "cell_type": "code",
   "execution_count": 31,
   "id": "2d0b9c9c",
   "metadata": {},
   "outputs": [
    {
     "name": "stdout",
     "output_type": "stream",
     "text": [
      "Classification report for Random Forest Classifier without under/oversampling\n",
      "\n",
      "\n",
      "Recall for Random forest without under/oversampling  \t 0.7676056338028169\n",
      "Precision for Rnadom forest without under/oversampling \t 0.9646017699115044\n",
      "F1_score for Random forest without under/oversampling \t 0.8549019607843137\n",
      "Accuracy for Random forest without under/oversampling \t 0.9995653093352758\n",
      "Mathews correlation cofficient for Random forest without under/oversampling \t 0.8602850523630742\n",
      "\n",
      "\n",
      "Confusion Matrix \n",
      " [[84972     4]\n",
      " [   33   109]]\n"
     ]
    }
   ],
   "source": [
    "rf = {'Recall for Random forest without under/oversampling ':rf_recall,\n",
    "      'Precision for Rnadom forest without under/oversampling' :rf_pre,\n",
    "      'F1_score for Random forest without under/oversampling': rf_f1,\n",
    "      'Accuracy for Random forest without under/oversampling': rf_acc, \n",
    "      'Mathews correlation cofficient for Random forest without under/oversampling':rf_mc}\n",
    "\n",
    "print(\"Classification report for Random Forest Classifier without under/oversampling\")\n",
    "\n",
    "\n",
    "\n",
    "print('\\n')\n",
    "\n",
    "for i in rf:\n",
    "    \n",
    "    print(i,'\\t',rf[i])\n",
    "print('\\n')\n",
    "\n",
    "cm=confusion_matrix(Y_test,y_pred)\n",
    "print('Confusion Matrix \\n',cm)"
   ]
  },
  {
   "cell_type": "markdown",
   "id": "1a1c2b35",
   "metadata": {},
   "source": [
    "### Smote (Synthetic Minority Oversampling Technique)\n",
    "\n",
    "Smote synthesize elements for the minority class.It works by selecting examples that are close in the feature space,drawing lines between the examples in the feature space and draw a new sample at a point along that line."
   ]
  },
  {
   "cell_type": "code",
   "execution_count": 32,
   "id": "7acc1624",
   "metadata": {},
   "outputs": [],
   "source": [
    "from imblearn.over_sampling import SMOTE\n",
    "from imblearn.pipeline import make_pipeline,Pipeline\n",
    "\n",
    "smote_pipeline=make_pipeline(SMOTE(random_state=42),RandomForestClassifier(n_estimators=100,random_state=13))"
   ]
  },
  {
   "cell_type": "code",
   "execution_count": 33,
   "id": "a4781e19",
   "metadata": {},
   "outputs": [
    {
     "data": {
      "text/html": [
       "<style>#sk-container-id-2 {color: black;background-color: white;}#sk-container-id-2 pre{padding: 0;}#sk-container-id-2 div.sk-toggleable {background-color: white;}#sk-container-id-2 label.sk-toggleable__label {cursor: pointer;display: block;width: 100%;margin-bottom: 0;padding: 0.3em;box-sizing: border-box;text-align: center;}#sk-container-id-2 label.sk-toggleable__label-arrow:before {content: \"▸\";float: left;margin-right: 0.25em;color: #696969;}#sk-container-id-2 label.sk-toggleable__label-arrow:hover:before {color: black;}#sk-container-id-2 div.sk-estimator:hover label.sk-toggleable__label-arrow:before {color: black;}#sk-container-id-2 div.sk-toggleable__content {max-height: 0;max-width: 0;overflow: hidden;text-align: left;background-color: #f0f8ff;}#sk-container-id-2 div.sk-toggleable__content pre {margin: 0.2em;color: black;border-radius: 0.25em;background-color: #f0f8ff;}#sk-container-id-2 input.sk-toggleable__control:checked~div.sk-toggleable__content {max-height: 200px;max-width: 100%;overflow: auto;}#sk-container-id-2 input.sk-toggleable__control:checked~label.sk-toggleable__label-arrow:before {content: \"▾\";}#sk-container-id-2 div.sk-estimator input.sk-toggleable__control:checked~label.sk-toggleable__label {background-color: #d4ebff;}#sk-container-id-2 div.sk-label input.sk-toggleable__control:checked~label.sk-toggleable__label {background-color: #d4ebff;}#sk-container-id-2 input.sk-hidden--visually {border: 0;clip: rect(1px 1px 1px 1px);clip: rect(1px, 1px, 1px, 1px);height: 1px;margin: -1px;overflow: hidden;padding: 0;position: absolute;width: 1px;}#sk-container-id-2 div.sk-estimator {font-family: monospace;background-color: #f0f8ff;border: 1px dotted black;border-radius: 0.25em;box-sizing: border-box;margin-bottom: 0.5em;}#sk-container-id-2 div.sk-estimator:hover {background-color: #d4ebff;}#sk-container-id-2 div.sk-parallel-item::after {content: \"\";width: 100%;border-bottom: 1px solid gray;flex-grow: 1;}#sk-container-id-2 div.sk-label:hover label.sk-toggleable__label {background-color: #d4ebff;}#sk-container-id-2 div.sk-serial::before {content: \"\";position: absolute;border-left: 1px solid gray;box-sizing: border-box;top: 0;bottom: 0;left: 50%;z-index: 0;}#sk-container-id-2 div.sk-serial {display: flex;flex-direction: column;align-items: center;background-color: white;padding-right: 0.2em;padding-left: 0.2em;position: relative;}#sk-container-id-2 div.sk-item {position: relative;z-index: 1;}#sk-container-id-2 div.sk-parallel {display: flex;align-items: stretch;justify-content: center;background-color: white;position: relative;}#sk-container-id-2 div.sk-item::before, #sk-container-id-2 div.sk-parallel-item::before {content: \"\";position: absolute;border-left: 1px solid gray;box-sizing: border-box;top: 0;bottom: 0;left: 50%;z-index: -1;}#sk-container-id-2 div.sk-parallel-item {display: flex;flex-direction: column;z-index: 1;position: relative;background-color: white;}#sk-container-id-2 div.sk-parallel-item:first-child::after {align-self: flex-end;width: 50%;}#sk-container-id-2 div.sk-parallel-item:last-child::after {align-self: flex-start;width: 50%;}#sk-container-id-2 div.sk-parallel-item:only-child::after {width: 0;}#sk-container-id-2 div.sk-dashed-wrapped {border: 1px dashed gray;margin: 0 0.4em 0.5em 0.4em;box-sizing: border-box;padding-bottom: 0.4em;background-color: white;}#sk-container-id-2 div.sk-label label {font-family: monospace;font-weight: bold;display: inline-block;line-height: 1.2em;}#sk-container-id-2 div.sk-label-container {text-align: center;}#sk-container-id-2 div.sk-container {/* jupyter's `normalize.less` sets `[hidden] { display: none; }` but bootstrap.min.css set `[hidden] { display: none !important; }` so we also need the `!important` here to be able to override the default hidden behavior on the sphinx rendered scikit-learn.org. See: https://github.com/scikit-learn/scikit-learn/issues/21755 */display: inline-block !important;position: relative;}#sk-container-id-2 div.sk-text-repr-fallback {display: none;}</style><div id=\"sk-container-id-2\" class=\"sk-top-container\"><div class=\"sk-text-repr-fallback\"><pre>Pipeline(steps=[(&#x27;smote&#x27;, SMOTE(random_state=42)),\n",
       "                (&#x27;randomforestclassifier&#x27;,\n",
       "                 RandomForestClassifier(random_state=13))])</pre><b>In a Jupyter environment, please rerun this cell to show the HTML representation or trust the notebook. <br />On GitHub, the HTML representation is unable to render, please try loading this page with nbviewer.org.</b></div><div class=\"sk-container\" hidden><div class=\"sk-item sk-dashed-wrapped\"><div class=\"sk-label-container\"><div class=\"sk-label sk-toggleable\"><input class=\"sk-toggleable__control sk-hidden--visually\" id=\"sk-estimator-id-2\" type=\"checkbox\" ><label for=\"sk-estimator-id-2\" class=\"sk-toggleable__label sk-toggleable__label-arrow\">Pipeline</label><div class=\"sk-toggleable__content\"><pre>Pipeline(steps=[(&#x27;smote&#x27;, SMOTE(random_state=42)),\n",
       "                (&#x27;randomforestclassifier&#x27;,\n",
       "                 RandomForestClassifier(random_state=13))])</pre></div></div></div><div class=\"sk-serial\"><div class=\"sk-item\"><div class=\"sk-estimator sk-toggleable\"><input class=\"sk-toggleable__control sk-hidden--visually\" id=\"sk-estimator-id-3\" type=\"checkbox\" ><label for=\"sk-estimator-id-3\" class=\"sk-toggleable__label sk-toggleable__label-arrow\">SMOTE</label><div class=\"sk-toggleable__content\"><pre>SMOTE(random_state=42)</pre></div></div></div><div class=\"sk-item\"><div class=\"sk-estimator sk-toggleable\"><input class=\"sk-toggleable__control sk-hidden--visually\" id=\"sk-estimator-id-4\" type=\"checkbox\" ><label for=\"sk-estimator-id-4\" class=\"sk-toggleable__label sk-toggleable__label-arrow\">RandomForestClassifier</label><div class=\"sk-toggleable__content\"><pre>RandomForestClassifier(random_state=13)</pre></div></div></div></div></div></div></div>"
      ],
      "text/plain": [
       "Pipeline(steps=[('smote', SMOTE(random_state=42)),\n",
       "                ('randomforestclassifier',\n",
       "                 RandomForestClassifier(random_state=13))])"
      ]
     },
     "execution_count": 33,
     "metadata": {},
     "output_type": "execute_result"
    }
   ],
   "source": [
    "smote_rf=smote_pipeline\n",
    "smote_rf.fit(X_train,Y_train)\n"
   ]
  },
  {
   "cell_type": "code",
   "execution_count": 34,
   "id": "aa86a28a",
   "metadata": {},
   "outputs": [],
   "source": [
    "pred=smote_rf.predict(X_test)\n",
    "\n",
    "smote_recall=recall_score(Y_test,pred)\n",
    "smote_pre=precision_score(Y_test,pred)\n",
    "smote_acc=accuracy_score(Y_test,pred)\n",
    "smote_cm=confusion_matrix(Y_test,pred)\n",
    "smote_f1=f1_score(Y_test,pred)\n",
    "smote_mc=matthews_corrcoef(Y_test,pred)"
   ]
  },
  {
   "cell_type": "code",
   "execution_count": 35,
   "id": "d7a6efac",
   "metadata": {},
   "outputs": [
    {
     "name": "stdout",
     "output_type": "stream",
     "text": [
      "Classification report for Random Forest with Smote oversampling  \n",
      "\n",
      "\n",
      "Recall for Random Forest with Smote oversampling  \t 0.7746478873239436\n",
      "Precision for Random Forest with Smote oversampling \t 0.8943089430894309\n",
      "F1_score for Random Forest with Smote oversampling \t 0.830188679245283\n",
      "Accuracy for Random Forest with Smote oversampling \t 0.9994713221645245\n",
      "Mathew correlation cofficient for Random Forest with Smote oversampling \t 0.8320733900221179\n",
      "\n",
      "\n",
      "Confusion Matrix \n",
      " [[84963    13]\n",
      " [   32   110]]\n"
     ]
    }
   ],
   "source": [
    "smote = {'Recall for Random Forest with Smote oversampling ':smote_recall,\n",
    "         'Precision for Random Forest with Smote oversampling' :smote_pre,\n",
    "         'F1_score for Random Forest with Smote oversampling':smote_f1,\n",
    "         'Accuracy for Random Forest with Smote oversampling': smote_acc,\n",
    "         'Mathew correlation cofficient for Random Forest with Smote oversampling' :smote_mc\n",
    "        }\n",
    "\n",
    "print(\"Classification report for Random Forest with Smote oversampling  \")\n",
    "\n",
    "\n",
    "\n",
    "print('\\n')\n",
    "\n",
    "for i in smote:\n",
    "    \n",
    "    print(i,'\\t',smote[i])\n",
    "print('\\n')\n",
    "\n",
    "cm=confusion_matrix(Y_test,pred)\n",
    "print('Confusion Matrix \\n',cm)"
   ]
  },
  {
   "cell_type": "markdown",
   "id": "9fb7a43e",
   "metadata": {},
   "source": [
    "### Tomek\n",
    "\n",
    "It starts by finding samples of data from majority class that has lowest Euclidean distance with the minority class data and then remove it ."
   ]
  },
  {
   "cell_type": "code",
   "execution_count": 36,
   "id": "dd4f8802",
   "metadata": {},
   "outputs": [],
   "source": [
    "from imblearn.under_sampling import TomekLinks\n",
    "\n",
    "TomekPipeline=make_pipeline(TomekLinks(),RandomForestClassifier(n_estimators=100,random_state=13))"
   ]
  },
  {
   "cell_type": "code",
   "execution_count": 37,
   "id": "08ba7f65",
   "metadata": {
    "scrolled": true
   },
   "outputs": [
    {
     "data": {
      "text/html": [
       "<style>#sk-container-id-3 {color: black;background-color: white;}#sk-container-id-3 pre{padding: 0;}#sk-container-id-3 div.sk-toggleable {background-color: white;}#sk-container-id-3 label.sk-toggleable__label {cursor: pointer;display: block;width: 100%;margin-bottom: 0;padding: 0.3em;box-sizing: border-box;text-align: center;}#sk-container-id-3 label.sk-toggleable__label-arrow:before {content: \"▸\";float: left;margin-right: 0.25em;color: #696969;}#sk-container-id-3 label.sk-toggleable__label-arrow:hover:before {color: black;}#sk-container-id-3 div.sk-estimator:hover label.sk-toggleable__label-arrow:before {color: black;}#sk-container-id-3 div.sk-toggleable__content {max-height: 0;max-width: 0;overflow: hidden;text-align: left;background-color: #f0f8ff;}#sk-container-id-3 div.sk-toggleable__content pre {margin: 0.2em;color: black;border-radius: 0.25em;background-color: #f0f8ff;}#sk-container-id-3 input.sk-toggleable__control:checked~div.sk-toggleable__content {max-height: 200px;max-width: 100%;overflow: auto;}#sk-container-id-3 input.sk-toggleable__control:checked~label.sk-toggleable__label-arrow:before {content: \"▾\";}#sk-container-id-3 div.sk-estimator input.sk-toggleable__control:checked~label.sk-toggleable__label {background-color: #d4ebff;}#sk-container-id-3 div.sk-label input.sk-toggleable__control:checked~label.sk-toggleable__label {background-color: #d4ebff;}#sk-container-id-3 input.sk-hidden--visually {border: 0;clip: rect(1px 1px 1px 1px);clip: rect(1px, 1px, 1px, 1px);height: 1px;margin: -1px;overflow: hidden;padding: 0;position: absolute;width: 1px;}#sk-container-id-3 div.sk-estimator {font-family: monospace;background-color: #f0f8ff;border: 1px dotted black;border-radius: 0.25em;box-sizing: border-box;margin-bottom: 0.5em;}#sk-container-id-3 div.sk-estimator:hover {background-color: #d4ebff;}#sk-container-id-3 div.sk-parallel-item::after {content: \"\";width: 100%;border-bottom: 1px solid gray;flex-grow: 1;}#sk-container-id-3 div.sk-label:hover label.sk-toggleable__label {background-color: #d4ebff;}#sk-container-id-3 div.sk-serial::before {content: \"\";position: absolute;border-left: 1px solid gray;box-sizing: border-box;top: 0;bottom: 0;left: 50%;z-index: 0;}#sk-container-id-3 div.sk-serial {display: flex;flex-direction: column;align-items: center;background-color: white;padding-right: 0.2em;padding-left: 0.2em;position: relative;}#sk-container-id-3 div.sk-item {position: relative;z-index: 1;}#sk-container-id-3 div.sk-parallel {display: flex;align-items: stretch;justify-content: center;background-color: white;position: relative;}#sk-container-id-3 div.sk-item::before, #sk-container-id-3 div.sk-parallel-item::before {content: \"\";position: absolute;border-left: 1px solid gray;box-sizing: border-box;top: 0;bottom: 0;left: 50%;z-index: -1;}#sk-container-id-3 div.sk-parallel-item {display: flex;flex-direction: column;z-index: 1;position: relative;background-color: white;}#sk-container-id-3 div.sk-parallel-item:first-child::after {align-self: flex-end;width: 50%;}#sk-container-id-3 div.sk-parallel-item:last-child::after {align-self: flex-start;width: 50%;}#sk-container-id-3 div.sk-parallel-item:only-child::after {width: 0;}#sk-container-id-3 div.sk-dashed-wrapped {border: 1px dashed gray;margin: 0 0.4em 0.5em 0.4em;box-sizing: border-box;padding-bottom: 0.4em;background-color: white;}#sk-container-id-3 div.sk-label label {font-family: monospace;font-weight: bold;display: inline-block;line-height: 1.2em;}#sk-container-id-3 div.sk-label-container {text-align: center;}#sk-container-id-3 div.sk-container {/* jupyter's `normalize.less` sets `[hidden] { display: none; }` but bootstrap.min.css set `[hidden] { display: none !important; }` so we also need the `!important` here to be able to override the default hidden behavior on the sphinx rendered scikit-learn.org. See: https://github.com/scikit-learn/scikit-learn/issues/21755 */display: inline-block !important;position: relative;}#sk-container-id-3 div.sk-text-repr-fallback {display: none;}</style><div id=\"sk-container-id-3\" class=\"sk-top-container\"><div class=\"sk-text-repr-fallback\"><pre>Pipeline(steps=[(&#x27;tomeklinks&#x27;, TomekLinks()),\n",
       "                (&#x27;randomforestclassifier&#x27;,\n",
       "                 RandomForestClassifier(random_state=13))])</pre><b>In a Jupyter environment, please rerun this cell to show the HTML representation or trust the notebook. <br />On GitHub, the HTML representation is unable to render, please try loading this page with nbviewer.org.</b></div><div class=\"sk-container\" hidden><div class=\"sk-item sk-dashed-wrapped\"><div class=\"sk-label-container\"><div class=\"sk-label sk-toggleable\"><input class=\"sk-toggleable__control sk-hidden--visually\" id=\"sk-estimator-id-5\" type=\"checkbox\" ><label for=\"sk-estimator-id-5\" class=\"sk-toggleable__label sk-toggleable__label-arrow\">Pipeline</label><div class=\"sk-toggleable__content\"><pre>Pipeline(steps=[(&#x27;tomeklinks&#x27;, TomekLinks()),\n",
       "                (&#x27;randomforestclassifier&#x27;,\n",
       "                 RandomForestClassifier(random_state=13))])</pre></div></div></div><div class=\"sk-serial\"><div class=\"sk-item\"><div class=\"sk-estimator sk-toggleable\"><input class=\"sk-toggleable__control sk-hidden--visually\" id=\"sk-estimator-id-6\" type=\"checkbox\" ><label for=\"sk-estimator-id-6\" class=\"sk-toggleable__label sk-toggleable__label-arrow\">TomekLinks</label><div class=\"sk-toggleable__content\"><pre>TomekLinks()</pre></div></div></div><div class=\"sk-item\"><div class=\"sk-estimator sk-toggleable\"><input class=\"sk-toggleable__control sk-hidden--visually\" id=\"sk-estimator-id-7\" type=\"checkbox\" ><label for=\"sk-estimator-id-7\" class=\"sk-toggleable__label sk-toggleable__label-arrow\">RandomForestClassifier</label><div class=\"sk-toggleable__content\"><pre>RandomForestClassifier(random_state=13)</pre></div></div></div></div></div></div></div>"
      ],
      "text/plain": [
       "Pipeline(steps=[('tomeklinks', TomekLinks()),\n",
       "                ('randomforestclassifier',\n",
       "                 RandomForestClassifier(random_state=13))])"
      ]
     },
     "execution_count": 37,
     "metadata": {},
     "output_type": "execute_result"
    }
   ],
   "source": [
    "Tomek_rfmodel=TomekPipeline\n",
    "Tomek_rfmodel.fit(X_train,Y_train)"
   ]
  },
  {
   "cell_type": "code",
   "execution_count": 38,
   "id": "be0e5542",
   "metadata": {},
   "outputs": [],
   "source": [
    "pred=Tomek_rfmodel.predict(X_test)\n",
    "\n",
    "tomek_recall=recall_score(Y_test,pred)\n",
    "tomek_pre=precision_score(Y_test,pred)\n",
    "tomek_acc=accuracy_score(Y_test,pred)\n",
    "tomek_cm=confusion_matrix(Y_test,pred)\n",
    "tomek_f1=f1_score(Y_test,pred)\n",
    "tomek_mc=matthews_corrcoef(Y_test,pred)"
   ]
  },
  {
   "cell_type": "code",
   "execution_count": 39,
   "id": "a979cea8",
   "metadata": {},
   "outputs": [
    {
     "name": "stdout",
     "output_type": "stream",
     "text": [
      "Classification report for Random Forest with Tomek undersampling  \n",
      "\n",
      "\n",
      "Recall for Random Forest with Tomek undersampling \t 0.7676056338028169\n",
      "Precision for Random Forest with Tomek undersampling \t 0.956140350877193\n",
      "F1_score for Random Forest with Tomek undersampling \t 0.8515625\n",
      "Accuracy for Random Forest with Tomek undersampling \t 0.9995535609389319\n",
      "Mathew correlation cofficient for Random Forest with Tomek undersampling \t 0.8564954675137644\n",
      "\n",
      "\n",
      "Confusion Matrix \n",
      " [[84971     5]\n",
      " [   33   109]]\n"
     ]
    }
   ],
   "source": [
    "tomek = {'Recall for Random Forest with Tomek undersampling':tomek_recall,'Precision for Random Forest with Tomek undersampling' :tomek_pre, 'F1_score for Random Forest with Tomek undersampling':tomek_f1,'Accuracy for Random Forest with Tomek undersampling': tomek_acc,'Mathew correlation cofficient for Random Forest with Tomek undersampling' :tomek_mc\n",
    "        }\n",
    "\n",
    "print(\"Classification report for Random Forest with Tomek undersampling  \")\n",
    "\n",
    "\n",
    "\n",
    "print('\\n')\n",
    "\n",
    "for i in tomek:\n",
    "    \n",
    "    print(i,'\\t',tomek[i])\n",
    "print('\\n')\n",
    "\n",
    "cm=confusion_matrix(Y_test,pred)\n",
    "print('Confusion Matrix \\n',cm)"
   ]
  },
  {
   "cell_type": "markdown",
   "id": "a28d061d",
   "metadata": {},
   "source": [
    "### Smote + Tomek \n",
    "\n",
    "A combination of over-sampling the minority class and under-sampling the majority class may gives better classifier performance.\n",
    "\n",
    "First smote is implemented to create new synthetic minority class samples to get balanced data. Then Tomek links is used to remove the samples close to the boundary of the two classes to increase the separation between two classes."
   ]
  },
  {
   "cell_type": "code",
   "execution_count": 40,
   "id": "d23fd8ad",
   "metadata": {},
   "outputs": [],
   "source": [
    "from imblearn.combine import SMOTETomek\n",
    "from imblearn.under_sampling import TomekLinks\n",
    "from imblearn.pipeline import Pipeline,make_pipeline"
   ]
  },
  {
   "cell_type": "code",
   "execution_count": 41,
   "id": "c8ccba38",
   "metadata": {},
   "outputs": [],
   "source": [
    "SmoteTomekPipeline=make_pipeline(SMOTETomek(tomek=TomekLinks(sampling_strategy='majority')),RandomForestClassifier(n_estimators=50,max_depth=6,random_state=13))"
   ]
  },
  {
   "cell_type": "code",
   "execution_count": 42,
   "id": "efa5b466",
   "metadata": {},
   "outputs": [],
   "source": [
    "SmoteTomek_rfmodel=SmoteTomekPipeline"
   ]
  },
  {
   "cell_type": "code",
   "execution_count": 43,
   "id": "6b3ba970",
   "metadata": {},
   "outputs": [
    {
     "data": {
      "text/html": [
       "<style>#sk-container-id-4 {color: black;background-color: white;}#sk-container-id-4 pre{padding: 0;}#sk-container-id-4 div.sk-toggleable {background-color: white;}#sk-container-id-4 label.sk-toggleable__label {cursor: pointer;display: block;width: 100%;margin-bottom: 0;padding: 0.3em;box-sizing: border-box;text-align: center;}#sk-container-id-4 label.sk-toggleable__label-arrow:before {content: \"▸\";float: left;margin-right: 0.25em;color: #696969;}#sk-container-id-4 label.sk-toggleable__label-arrow:hover:before {color: black;}#sk-container-id-4 div.sk-estimator:hover label.sk-toggleable__label-arrow:before {color: black;}#sk-container-id-4 div.sk-toggleable__content {max-height: 0;max-width: 0;overflow: hidden;text-align: left;background-color: #f0f8ff;}#sk-container-id-4 div.sk-toggleable__content pre {margin: 0.2em;color: black;border-radius: 0.25em;background-color: #f0f8ff;}#sk-container-id-4 input.sk-toggleable__control:checked~div.sk-toggleable__content {max-height: 200px;max-width: 100%;overflow: auto;}#sk-container-id-4 input.sk-toggleable__control:checked~label.sk-toggleable__label-arrow:before {content: \"▾\";}#sk-container-id-4 div.sk-estimator input.sk-toggleable__control:checked~label.sk-toggleable__label {background-color: #d4ebff;}#sk-container-id-4 div.sk-label input.sk-toggleable__control:checked~label.sk-toggleable__label {background-color: #d4ebff;}#sk-container-id-4 input.sk-hidden--visually {border: 0;clip: rect(1px 1px 1px 1px);clip: rect(1px, 1px, 1px, 1px);height: 1px;margin: -1px;overflow: hidden;padding: 0;position: absolute;width: 1px;}#sk-container-id-4 div.sk-estimator {font-family: monospace;background-color: #f0f8ff;border: 1px dotted black;border-radius: 0.25em;box-sizing: border-box;margin-bottom: 0.5em;}#sk-container-id-4 div.sk-estimator:hover {background-color: #d4ebff;}#sk-container-id-4 div.sk-parallel-item::after {content: \"\";width: 100%;border-bottom: 1px solid gray;flex-grow: 1;}#sk-container-id-4 div.sk-label:hover label.sk-toggleable__label {background-color: #d4ebff;}#sk-container-id-4 div.sk-serial::before {content: \"\";position: absolute;border-left: 1px solid gray;box-sizing: border-box;top: 0;bottom: 0;left: 50%;z-index: 0;}#sk-container-id-4 div.sk-serial {display: flex;flex-direction: column;align-items: center;background-color: white;padding-right: 0.2em;padding-left: 0.2em;position: relative;}#sk-container-id-4 div.sk-item {position: relative;z-index: 1;}#sk-container-id-4 div.sk-parallel {display: flex;align-items: stretch;justify-content: center;background-color: white;position: relative;}#sk-container-id-4 div.sk-item::before, #sk-container-id-4 div.sk-parallel-item::before {content: \"\";position: absolute;border-left: 1px solid gray;box-sizing: border-box;top: 0;bottom: 0;left: 50%;z-index: -1;}#sk-container-id-4 div.sk-parallel-item {display: flex;flex-direction: column;z-index: 1;position: relative;background-color: white;}#sk-container-id-4 div.sk-parallel-item:first-child::after {align-self: flex-end;width: 50%;}#sk-container-id-4 div.sk-parallel-item:last-child::after {align-self: flex-start;width: 50%;}#sk-container-id-4 div.sk-parallel-item:only-child::after {width: 0;}#sk-container-id-4 div.sk-dashed-wrapped {border: 1px dashed gray;margin: 0 0.4em 0.5em 0.4em;box-sizing: border-box;padding-bottom: 0.4em;background-color: white;}#sk-container-id-4 div.sk-label label {font-family: monospace;font-weight: bold;display: inline-block;line-height: 1.2em;}#sk-container-id-4 div.sk-label-container {text-align: center;}#sk-container-id-4 div.sk-container {/* jupyter's `normalize.less` sets `[hidden] { display: none; }` but bootstrap.min.css set `[hidden] { display: none !important; }` so we also need the `!important` here to be able to override the default hidden behavior on the sphinx rendered scikit-learn.org. See: https://github.com/scikit-learn/scikit-learn/issues/21755 */display: inline-block !important;position: relative;}#sk-container-id-4 div.sk-text-repr-fallback {display: none;}</style><div id=\"sk-container-id-4\" class=\"sk-top-container\"><div class=\"sk-text-repr-fallback\"><pre>Pipeline(steps=[(&#x27;smotetomek&#x27;,\n",
       "                 SMOTETomek(tomek=TomekLinks(sampling_strategy=&#x27;majority&#x27;))),\n",
       "                (&#x27;randomforestclassifier&#x27;,\n",
       "                 RandomForestClassifier(max_depth=6, n_estimators=50,\n",
       "                                        random_state=13))])</pre><b>In a Jupyter environment, please rerun this cell to show the HTML representation or trust the notebook. <br />On GitHub, the HTML representation is unable to render, please try loading this page with nbviewer.org.</b></div><div class=\"sk-container\" hidden><div class=\"sk-item sk-dashed-wrapped\"><div class=\"sk-label-container\"><div class=\"sk-label sk-toggleable\"><input class=\"sk-toggleable__control sk-hidden--visually\" id=\"sk-estimator-id-8\" type=\"checkbox\" ><label for=\"sk-estimator-id-8\" class=\"sk-toggleable__label sk-toggleable__label-arrow\">Pipeline</label><div class=\"sk-toggleable__content\"><pre>Pipeline(steps=[(&#x27;smotetomek&#x27;,\n",
       "                 SMOTETomek(tomek=TomekLinks(sampling_strategy=&#x27;majority&#x27;))),\n",
       "                (&#x27;randomforestclassifier&#x27;,\n",
       "                 RandomForestClassifier(max_depth=6, n_estimators=50,\n",
       "                                        random_state=13))])</pre></div></div></div><div class=\"sk-serial\"><div class=\"sk-item sk-dashed-wrapped\"><div class=\"sk-label-container\"><div class=\"sk-label sk-toggleable\"><input class=\"sk-toggleable__control sk-hidden--visually\" id=\"sk-estimator-id-9\" type=\"checkbox\" ><label for=\"sk-estimator-id-9\" class=\"sk-toggleable__label sk-toggleable__label-arrow\">smotetomek: SMOTETomek</label><div class=\"sk-toggleable__content\"><pre>SMOTETomek(tomek=TomekLinks(sampling_strategy=&#x27;majority&#x27;))</pre></div></div></div><div class=\"sk-parallel\"><div class=\"sk-parallel-item\"><div class=\"sk-item\"><div class=\"sk-label-container\"><div class=\"sk-label sk-toggleable\"><input class=\"sk-toggleable__control sk-hidden--visually\" id=\"sk-estimator-id-10\" type=\"checkbox\" ><label for=\"sk-estimator-id-10\" class=\"sk-toggleable__label sk-toggleable__label-arrow\">tomek: TomekLinks</label><div class=\"sk-toggleable__content\"><pre>TomekLinks(sampling_strategy=&#x27;majority&#x27;)</pre></div></div></div><div class=\"sk-serial\"><div class=\"sk-item\"><div class=\"sk-estimator sk-toggleable\"><input class=\"sk-toggleable__control sk-hidden--visually\" id=\"sk-estimator-id-11\" type=\"checkbox\" ><label for=\"sk-estimator-id-11\" class=\"sk-toggleable__label sk-toggleable__label-arrow\">TomekLinks</label><div class=\"sk-toggleable__content\"><pre>TomekLinks(sampling_strategy=&#x27;majority&#x27;)</pre></div></div></div></div></div></div></div></div><div class=\"sk-item\"><div class=\"sk-estimator sk-toggleable\"><input class=\"sk-toggleable__control sk-hidden--visually\" id=\"sk-estimator-id-12\" type=\"checkbox\" ><label for=\"sk-estimator-id-12\" class=\"sk-toggleable__label sk-toggleable__label-arrow\">RandomForestClassifier</label><div class=\"sk-toggleable__content\"><pre>RandomForestClassifier(max_depth=6, n_estimators=50, random_state=13)</pre></div></div></div></div></div></div></div>"
      ],
      "text/plain": [
       "Pipeline(steps=[('smotetomek',\n",
       "                 SMOTETomek(tomek=TomekLinks(sampling_strategy='majority'))),\n",
       "                ('randomforestclassifier',\n",
       "                 RandomForestClassifier(max_depth=6, n_estimators=50,\n",
       "                                        random_state=13))])"
      ]
     },
     "execution_count": 43,
     "metadata": {},
     "output_type": "execute_result"
    }
   ],
   "source": [
    "SmoteTomek_rfmodel.fit(X_train,Y_train)"
   ]
  },
  {
   "cell_type": "code",
   "execution_count": 44,
   "id": "44e6ec37",
   "metadata": {},
   "outputs": [],
   "source": [
    "SmoteTomekmodel=SmoteTomek_rfmodel"
   ]
  },
  {
   "cell_type": "code",
   "execution_count": 45,
   "id": "75876dbb",
   "metadata": {},
   "outputs": [],
   "source": [
    "Ypred=SmoteTomek_rfmodel.predict(X_test)"
   ]
  },
  {
   "cell_type": "code",
   "execution_count": 46,
   "id": "30fdc78b",
   "metadata": {},
   "outputs": [],
   "source": [
    "\n",
    "smoteTomek_recall=recall_score(Y_test,Ypred)\n",
    "smoteTomek_pre=precision_score(Y_test,Ypred)\n",
    "smoteTomek_acc=accuracy_score(Y_test,Ypred)\n",
    "smoteTomek_cm=confusion_matrix(Y_test,Ypred)\n",
    "smoteTomek_f1=f1_score(Y_test,Ypred)\n",
    "smoteTomek_mc=matthews_corrcoef(Y_test,Ypred)"
   ]
  },
  {
   "cell_type": "code",
   "execution_count": 47,
   "id": "e79d1048",
   "metadata": {},
   "outputs": [
    {
     "name": "stdout",
     "output_type": "stream",
     "text": [
      "Metrics report for Random Forest Classifier with combination of smote and tomek\n",
      "\n",
      "\n",
      "Recall for Random Forest Classifier with combination of smote and tomek \t 0.8661971830985915\n",
      "Precision for Random Forest Classifier with combination of smote and tomek \t 0.28805620608899296\n",
      "F1_score for Random Forest Classifier with combination of smote and tomek \t 0.4323374340949033\n",
      "Accuracy for Random Forest Classifier with combination of smote and tomek \t 0.9962052679809206\n",
      "Mathews Correlation Cofficient for Random Forest Classifier with combination of smote and tomek \t 0.4982864982895779\n",
      "\n",
      "\n",
      "Confusion Matrix \n",
      " [[84672   304]\n",
      " [   19   123]]\n"
     ]
    }
   ],
   "source": [
    "smote_tomek = {'Recall for Random Forest Classifier with combination of smote and tomek':smoteTomek_recall,'Precision for Random Forest Classifier with combination of smote and tomek' :smoteTomek_pre, 'F1_score for Random Forest Classifier with combination of smote and tomek': smoteTomek_f1,'Accuracy for Random Forest Classifier with combination of smote and tomek': smoteTomek_acc\n",
    "                     , 'Mathews Correlation Cofficient for Random Forest Classifier with combination of smote and tomek':smoteTomek_mc}\n",
    "smote_tomek1 = {'Recall ':smoteTomek_recall,'Precision ' :smoteTomek_pre, 'F1_score ': smoteTomek_f1,'Accuracy ': smoteTomek_acc\n",
    "                     , 'Mathews Correlation Cofficient ':smoteTomek_mc}\n",
    "print(\"Metrics report for Random Forest Classifier with combination of smote and tomek\")\n",
    "\n",
    "\n",
    "\n",
    "print('\\n')\n",
    "\n",
    "for i in smote_tomek:\n",
    "    \n",
    "    print(i,'\\t',smote_tomek[i])\n",
    "print('\\n')\n",
    "\n",
    "cm=confusion_matrix(Y_test,Ypred)\n",
    "print('Confusion Matrix \\n',cm)"
   ]
  },
  {
   "cell_type": "markdown",
   "id": "748d9131",
   "metadata": {},
   "source": [
    "### Balanced Bagging Classifier\n",
    "\n",
    "Bagging method works by building multiple estimators on different randomly selected subset of a data.\n",
    "\n",
    "Here, our data is imbalanced so we are using balanced bagging classifier .It allows resampling of each subset before training each estimator of the ensemble."
   ]
  },
  {
   "cell_type": "code",
   "execution_count": 48,
   "id": "a6ad270e",
   "metadata": {},
   "outputs": [],
   "source": [
    "from imblearn.ensemble import BalancedBaggingClassifier\n",
    "from sklearn.tree import DecisionTreeClassifier"
   ]
  },
  {
   "cell_type": "code",
   "execution_count": 49,
   "id": "610862bd",
   "metadata": {
    "scrolled": true
   },
   "outputs": [
    {
     "name": "stderr",
     "output_type": "stream",
     "text": [
      "C:\\Users\\Priyanka Sharma\\AppData\\Local\\Programs\\Python\\Python39\\lib\\site-packages\\imblearn\\ensemble\\_bagging.py:353: FutureWarning: `base_estimator` was renamed to `estimator` in version 0.10 and will be removed in 0.12.\n",
      "  warnings.warn(\n"
     ]
    }
   ],
   "source": [
    "bbc=BalancedBaggingClassifier(base_estimator=DecisionTreeClassifier(),sampling_strategy='auto',replacement=False,random_state=0)\n",
    "bbc.fit(X_train,Y_train)\n",
    "pred_bbc=bbc.predict(X_test)"
   ]
  },
  {
   "cell_type": "code",
   "execution_count": 50,
   "id": "bdba2f1b",
   "metadata": {},
   "outputs": [],
   "source": [
    "bbc_recall=recall_score(Y_test,pred_bbc)\n",
    "bbc_pre=precision_score(Y_test,pred_bbc)\n",
    "bbc_acc=accuracy_score(Y_test,pred_bbc)\n",
    "bbc_cm=confusion_matrix(Y_test,pred_bbc)\n",
    "bbc_f1=f1_score(Y_test,pred_bbc)\n",
    "bbc_mc=matthews_corrcoef(Y_test,pred_bbc)"
   ]
  },
  {
   "cell_type": "code",
   "execution_count": 51,
   "id": "fbb9cdcb",
   "metadata": {},
   "outputs": [
    {
     "name": "stdout",
     "output_type": "stream",
     "text": [
      "Classification report for Balanced Bagging Classifier \n",
      "\n",
      "\n",
      "Recall for Balanced Bagging Classifier \t\t 0.8802816901408451\n",
      "Precision for Balanced Bagging Classifier \t\t 0.05321413367390379\n",
      "F1_score for Balanced Bagging Classifier \t\t 0.10036130068245684\n",
      "Accuracy for Balanced Bagging Classifier \t\t 0.9736718437933222\n",
      "Mathews Correlation cofficient for Balanced Bagging Classifier \t\t 0.21277987637201548\n",
      "\n",
      "\n",
      "Confusion Matrix \n",
      " [[82752  2224]\n",
      " [   17   125]]\n"
     ]
    }
   ],
   "source": [
    "bbc = {'Recall for Balanced Bagging Classifier':bbc_recall,'Precision for Balanced Bagging Classifier' :bbc_pre, 'F1_score for Balanced Bagging Classifier': bbc_f1,'Accuracy for Balanced Bagging Classifier': bbc_acc\n",
    "      , 'Mathews Correlation cofficient for Balanced Bagging Classifier':bbc_mc}\n",
    "bbc1 = {'Recall ':bbc_recall,'Precision ' :bbc_pre, 'F1_score ': bbc_f1,'Accuracy ': bbc_acc\n",
    "      , 'Mathews Correlation cofficient ':bbc_mc}\n",
    "\n",
    "print(\"Classification report for Balanced Bagging Classifier \")\n",
    "\n",
    "\n",
    "\n",
    "print('\\n')\n",
    "\n",
    "for i in bbc :\n",
    "    \n",
    "    print(i,'\\t\\t',bbc[i])\n",
    "print('\\n')\n",
    "\n",
    "cm=confusion_matrix(Y_test,pred_bbc)\n",
    "print('Confusion Matrix \\n',cm)"
   ]
  },
  {
   "cell_type": "markdown",
   "id": "06b62571",
   "metadata": {},
   "source": [
    "### Comparison of all models"
   ]
  },
  {
   "cell_type": "code",
   "execution_count": 61,
   "id": "120e8b5a",
   "metadata": {},
   "outputs": [
    {
     "name": "stdout",
     "output_type": "stream",
     "text": [
      "{'RF without over/undersampling': 0.7676056338028169, 'RF with smote': 0.7746478873239436, 'RF with Tomek': 0.7676056338028169, 'RF with smote+tomek': 0.8661971830985915, 'Balanced bagging classifier': 0.8802816901408451}\n"
     ]
    },
    {
     "data": {
      "image/png": "[encoded data removed]",
      "text/plain": [
       "<Figure size 1500x400 with 1 Axes>"
      ]
     },
     "metadata": {},
     "output_type": "display_data"
    }
   ],
   "source": [
    "models={'RF without over/undersampling':list(rf.items())[0][1],'RF with smote':list(smote.items())[0][1],'RF with Tomek':list(tomek.items())[0][1],'RF with smote+tomek':list(smote_tomek.items())[0][1],'Balanced bagging classifier':list(bbc.items())[0][1]}\n",
    "m=sorted(models)\n",
    "names=list(models.keys())\n",
    "values=list(models.values())\n",
    "\n",
    "plt.rcParams[\"figure.figsize\"]=(15,4)\n",
    "plt.title('Comparison of Recall of all models')\n",
    "plt.bar(range(len(models)),values,tick_label=names,color=['black', 'red', 'green', 'blue', 'cyan'])\n",
    "plt.show()\n",
    "\n"
   ]
  },
  {
   "cell_type": "code",
   "execution_count": 66,
   "id": "5cce0d4f",
   "metadata": {},
   "outputs": [
    {
     "data": {
      "image/png": "[encoded data removed]",
      "text/plain": [
       "<Figure size 1500x400 with 1 Axes>"
      ]
     },
     "metadata": {},
     "output_type": "display_data"
    }
   ],
   "source": [
    "models={'RF without over/undersampling':list(rf.items())[1][1],'RF with smote':list(smote.items())[1][1],'RF with Tomek':list(tomek.items())[1][1],'RF with smote+tomek':list(smote_tomek.items())[1][1],'Balanced bagging classifier':list(bbc.items())[1][1]}\n",
    "m=sorted(models)\n",
    "names=list(models.keys())\n",
    "values=list(models.values())\n",
    "\n",
    "plt.rcParams[\"figure.figsize\"]=(15,4)\n",
    "plt.title('Comparison of Precision of all models')\n",
    "plt.bar(range(len(models)),values,tick_label=names,color=['black', 'red', 'green', 'blue', 'cyan'])\n",
    "plt.show()\n",
    "\n"
   ]
  },
  {
   "cell_type": "code",
   "execution_count": 74,
   "id": "5986f0cd",
   "metadata": {},
   "outputs": [
    {
     "data": {
      "image/png": "[encoded data removed]",
      "text/plain": [
       "<Figure size 1500x400 with 1 Axes>"
      ]
     },
     "metadata": {},
     "output_type": "display_data"
    }
   ],
   "source": [
    "models={'RF without over/undersampling':list(rf.items())[2][1],'RF with smote':list(smote.items())[2][1],'RF with Tomek':list(tomek.items())[2][1],'RF with smote+tomek':list(smote_tomek.items())[2][1],'Balanced bagging classifier':list(bbc.items())[2][1]}\n",
    "m=sorted(models)\n",
    "names=list(models.keys())\n",
    "values=list(models.values())\n",
    "#print(models)\n",
    "plt.rcParams[\"figure.figsize\"]=(15,4)\n",
    "plt.title('Comparison of F1 score of all models')\n",
    "plt.bar(range(len(models)),values,tick_label=names,color=['black', 'red', 'green', 'blue', 'cyan'])\n",
    "plt.show()\n"
   ]
  },
  {
   "cell_type": "code",
   "execution_count": 76,
   "id": "ed56658a",
   "metadata": {},
   "outputs": [
    {
     "data": {
      "image/png": "[encoded data removed]",
      "text/plain": [
       "<Figure size 1500x400 with 1 Axes>"
      ]
     },
     "metadata": {},
     "output_type": "display_data"
    }
   ],
   "source": [
    "models={'RF without over/undersampling':list(rf.items())[3][1],'RF with smote':list(smote.items())[3][1],'RF with Tomek':list(tomek.items())[3][1],'RF with smote+tomek':list(smote_tomek.items())[3][1],'Balanced bagging classifier':list(bbc.items())[3][1]}\n",
    "m=sorted(models)\n",
    "names=list(models.keys())\n",
    "values=list(models.values())\n",
    "#print(models)\n",
    "plt.rcParams[\"figure.figsize\"]=(15,4)\n",
    "plt.title('Comparison of Accuracy of all models')\n",
    "plt.bar(range(len(models)),values,tick_label=names,color=['black', 'red', 'green', 'blue', 'cyan'])\n",
    "plt.show()"
   ]
  },
  {
   "cell_type": "code",
   "execution_count": 79,
   "id": "7ae3a2d8",
   "metadata": {},
   "outputs": [
    {
     "data": {
      "image/png": "[encoded data removed]",
      "text/plain": [
       "<Figure size 1500x400 with 1 Axes>"
      ]
     },
     "metadata": {},
     "output_type": "display_data"
    }
   ],
   "source": [
    "models={'RF without over/undersampling':list(rf.items())[4][1],'RF with smote':list(smote.items())[4][1],'RF with Tomek':list(tomek.items())[4][1],'RF with smote+tomek':list(smote_tomek.items())[4][1],'Balanced bagging classifier':list(bbc.items())[4][1]}\n",
    "m=sorted(models)\n",
    "names=list(models.keys())\n",
    "values=list(models.values())\n",
    "\n",
    "plt.rcParams[\"figure.figsize\"]=(15,4)\n",
    "plt.title('Comparison of Mathews correlation coffiecient of all models')\n",
    "plt.bar(range(len(models)),values,tick_label=names,color=['black', 'red', 'green', 'blue', 'cyan'])\n",
    "plt.show()"
   ]
  },
  {
   "cell_type": "markdown",
   "id": "2893c984",
   "metadata": {},
   "source": [
    "### Summary\n",
    "Random Forest with both Smote and Tomek model , Bagging Bossting classifier achieved the best recall, but Precision is very less and F1 score is also not good\n",
    "\n",
    "Both the random forest without under/oversampling and random forest with Tomek undersampling achieved 0.76% recall score.\n",
    "\n",
    "Random Forest with Smote oversampling also achieved  0.75 recall score and precision is also quite good"
   ]
  },
  {
   "cell_type": "markdown",
   "id": "40f6e8e0",
   "metadata": {},
   "source": [
    "### AUC-ROC Curve\n",
    "AUC (Area Under The Curve) ROC (Receiver Operating Characteristics) curve.\n",
    "\n",
    "ROC is a probability curve and AUC represents the degree or measure of separability. It tells how much the model is capable of distinguishing between classes. Higher the AUC, the better the model is at predicting 0 classes as 0 and 1 classes as 1.\n",
    "\n",
    "The ROC curve is plotted with TPR against the FPR where TPR is on the y-axis and FPR is on the x-axis.\n",
    "\n",
    "An excellent model has AUC near to the 1 which means it has a good measure of separability. A poor model has an AUC near 0 which means it has the worst measure of separability.\n",
    "\n",
    "1. When AUC is 0.7, it means there is a 70% chance that the model will be able to distinguish between positive class and negative class.\n",
    "2. When AUC is approximately 0.5, the model has no discrimination capacity to distinguish between positive class and negative class.\n",
    "3. When AUC is approximately 0, the model is predicting a negative class as a positive class and vice versa."
   ]
  },
  {
   "cell_type": "code",
   "execution_count": 80,
   "id": "b51f3542",
   "metadata": {},
   "outputs": [
    {
     "data": {
      "image/png": "[encoded data removed]",
      "text/plain": [
       "<Figure size 500x500 with 1 Axes>"
      ]
     },
     "metadata": {},
     "output_type": "display_data"
    }
   ],
   "source": [
    "y_proba = rfmodel.predict_proba(X_test)\n",
    "\n",
    "from sklearn.metrics import roc_curve\n",
    "from sklearn.metrics import RocCurveDisplay\n",
    "def plot_auc_roc_curve(y_test, y_pred):\n",
    "    fpr, tpr, _ = roc_curve(y_test, y_pred)\n",
    "    roc_display = RocCurveDisplay(fpr=fpr, tpr=tpr).plot()\n",
    "    roc_display.figure_.set_size_inches(5,5)\n",
    "    plt.plot([0, 1], [0, 1], color = 'g')\n",
    "# Plots the ROC curve using the sklearn methods - Good plot\n",
    "plot_auc_roc_curve(Y_test, y_proba[:, 1])\n",
    "# Plots the ROC curve using the sklearn methods - Bad plot\n",
    "#plot_sklearn_roc_curve(y_test, y_pred)"
   ]
  },
  {
   "cell_type": "code",
   "execution_count": null,
   "id": "3bb163c1",
   "metadata": {},
   "outputs": [],
   "source": []
  }
 ],
 "metadata": {
  "kernelspec": {
   "display_name": "Python 3 (ipykernel)",
   "language": "python",
   "name": "python3"
  },
  "language_info": {
   "codemirror_mode": {
    "name": "ipython",
    "version": 3
   },
   "file_extension": ".py",
   "mimetype": "text/x-python",
   "name": "python",
   "nbconvert_exporter": "python",
   "pygments_lexer": "ipython3",
   "version": "3.9.13"
  }
 },
 "nbformat": 4,
 "nbformat_minor": 5
}
